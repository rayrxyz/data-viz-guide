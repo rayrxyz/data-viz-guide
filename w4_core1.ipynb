{
  "nbformat": 4,
  "nbformat_minor": 0,
  "metadata": {
    "colab": {
      "name": "w4_core1.ipynb",
      "provenance": [],
      "collapsed_sections": [],
      "toc_visible": true,
      "authorship_tag": "ABX9TyPW7grMKjRbxdERGjyTmfZm",
      "include_colab_link": true
    },
    "kernelspec": {
      "name": "python3",
      "display_name": "Python 3"
    },
    "language_info": {
      "name": "python"
    }
  },
  "cells": [
    {
      "cell_type": "markdown",
      "metadata": {
        "id": "view-in-github",
        "colab_type": "text"
      },
      "source": [
        "<a href=\"https://colab.research.google.com/github/vincebarokie/data-viz-guide/blob/main/w4_core1.ipynb\" target=\"_parent\"><img src=\"https://colab.research.google.com/assets/colab-badge.svg\" alt=\"Open In Colab\"/></a>"
      ]
    },
    {
      "cell_type": "markdown",
      "source": [
        "# Assignment: Data Visualization Exercise (Core)\n",
        "\n",
        "Submitted By: Raymund Vincent Ricabar"
      ],
      "metadata": {
        "id": "gG86dfVz_Ih-"
      }
    },
    {
      "cell_type": "markdown",
      "source": [
        "**Problem**\n",
        "\n",
        "Instructions are found in the [README.md](https://github.com/vincebarokie/data-viz-guide/blob/main/README.md) section of this repo."
      ],
      "metadata": {
        "id": "NKV-y55G_T6r"
      }
    },
    {
      "cell_type": "markdown",
      "source": [
        "## TODOS:\n",
        "\n",
        "- [x] Load the file to a DataFrame\n",
        "- [x] Data Prep/Cleaning\n",
        "- [x] Exploratory Visualization"
      ],
      "metadata": {
        "id": "bbYPqYl3_9GH"
      }
    },
    {
      "cell_type": "markdown",
      "source": [
        "### Load the file to a Data Frame.\n",
        "\n",
        "**Mount Drive**"
      ],
      "metadata": {
        "id": "VKGyQJHm6f1n"
      }
    },
    {
      "cell_type": "code",
      "source": [
        "from google.colab import drive\n",
        "drive.mount('/content/drive')"
      ],
      "metadata": {
        "colab": {
          "base_uri": "https://localhost:8080/"
        },
        "id": "wSBPG0wH4wlO",
        "outputId": "f16232b8-108f-4dfc-d0c7-b21c12e3409e"
      },
      "execution_count": 197,
      "outputs": [
        {
          "output_type": "stream",
          "name": "stdout",
          "text": [
            "Drive already mounted at /content/drive; to attempt to forcibly remount, call drive.mount(\"/content/drive\", force_remount=True).\n"
          ]
        }
      ]
    },
    {
      "cell_type": "markdown",
      "source": [
        "**Import Libraries**"
      ],
      "metadata": {
        "id": "-3sN13qG493l"
      }
    },
    {
      "cell_type": "code",
      "source": [
        "# import libraries\n",
        "import pandas as pd\n",
        "import numpy as np\n",
        "import matplotlib.pyplot as plt\n",
        "import seaborn as sns\n",
        "\n",
        "# some additional imports\n",
        "import matplotlib as mpl\n",
        "import matplotlib.dates as mdates\n",
        "\n",
        "from matplotlib.ticker import FuncFormatter\n",
        "\n",
        "# printing the current version of the packages in Colab\n",
        "print('- Package Versions:')\n",
        "print(f'\\tMatplotlib = {mpl.__version__}')\n",
        "print(f'\\tPandas = {pd.__version__}')\n",
        "print(f'\\tSeaborn = {sns.__version__}')"
      ],
      "metadata": {
        "id": "xhGb4u2vF7Ur",
        "colab": {
          "base_uri": "https://localhost:8080/"
        },
        "outputId": "a07fd592-aca1-4336-c0ce-b4ed45533c12"
      },
      "execution_count": 198,
      "outputs": [
        {
          "output_type": "stream",
          "name": "stdout",
          "text": [
            "- Package Versions:\n",
            "\tMatplotlib = 3.2.2\n",
            "\tPandas = 1.3.5\n",
            "\tSeaborn = 0.11.2\n"
          ]
        }
      ]
    },
    {
      "cell_type": "markdown",
      "source": [
        "**Load the dataset**"
      ],
      "metadata": {
        "id": "BTQObvQ4GBZb"
      }
    },
    {
      "cell_type": "code",
      "source": [
        "# load the file to df\n",
        "DATA_FOLDER = '/content/drive/MyDrive/CodingDojo_DS/dataset_files/'\n",
        "filename = 'data_file_europe_power_sector_2020.xlsx'\n",
        "df = pd.read_excel(DATA_FOLDER+filename)\n",
        "df.head()"
      ],
      "metadata": {
        "colab": {
          "base_uri": "https://localhost:8080/",
          "height": 250
        },
        "id": "ULGCD3XPGIDI",
        "outputId": "19658ab9-6987-4fb5-f057-7ed5801f460e"
      },
      "execution_count": 199,
      "outputs": [
        {
          "output_type": "execute_result",
          "data": {
            "text/plain": [
              "   Year     Area   Variable  Generation (TWh)  Share of production (%)  \\\n",
              "0  2000  Austria     Fossil         16.418859                27.432215   \n",
              "1  2000  Austria       Coal          5.727000                 9.568527   \n",
              "2  2000  Austria  Hard Coal          4.435000                 7.409886   \n",
              "3  2000  Austria    Lignite          1.292000                 2.158641   \n",
              "4  2000  Austria        Gas          7.851000                13.117252   \n",
              "\n",
              "   Change on last year (%)  Change on last year (TWh)  \n",
              "0                      NaN                        NaN  \n",
              "1                      NaN                        NaN  \n",
              "2                      NaN                        NaN  \n",
              "3                      NaN                        NaN  \n",
              "4                      NaN                        NaN  "
            ],
            "text/html": [
              "\n",
              "  <div id=\"df-f29370aa-a4f1-4444-a082-dc65ea5efa45\">\n",
              "    <div class=\"colab-df-container\">\n",
              "      <div>\n",
              "<style scoped>\n",
              "    .dataframe tbody tr th:only-of-type {\n",
              "        vertical-align: middle;\n",
              "    }\n",
              "\n",
              "    .dataframe tbody tr th {\n",
              "        vertical-align: top;\n",
              "    }\n",
              "\n",
              "    .dataframe thead th {\n",
              "        text-align: right;\n",
              "    }\n",
              "</style>\n",
              "<table border=\"1\" class=\"dataframe\">\n",
              "  <thead>\n",
              "    <tr style=\"text-align: right;\">\n",
              "      <th></th>\n",
              "      <th>Year</th>\n",
              "      <th>Area</th>\n",
              "      <th>Variable</th>\n",
              "      <th>Generation (TWh)</th>\n",
              "      <th>Share of production (%)</th>\n",
              "      <th>Change on last year (%)</th>\n",
              "      <th>Change on last year (TWh)</th>\n",
              "    </tr>\n",
              "  </thead>\n",
              "  <tbody>\n",
              "    <tr>\n",
              "      <th>0</th>\n",
              "      <td>2000</td>\n",
              "      <td>Austria</td>\n",
              "      <td>Fossil</td>\n",
              "      <td>16.418859</td>\n",
              "      <td>27.432215</td>\n",
              "      <td>NaN</td>\n",
              "      <td>NaN</td>\n",
              "    </tr>\n",
              "    <tr>\n",
              "      <th>1</th>\n",
              "      <td>2000</td>\n",
              "      <td>Austria</td>\n",
              "      <td>Coal</td>\n",
              "      <td>5.727000</td>\n",
              "      <td>9.568527</td>\n",
              "      <td>NaN</td>\n",
              "      <td>NaN</td>\n",
              "    </tr>\n",
              "    <tr>\n",
              "      <th>2</th>\n",
              "      <td>2000</td>\n",
              "      <td>Austria</td>\n",
              "      <td>Hard Coal</td>\n",
              "      <td>4.435000</td>\n",
              "      <td>7.409886</td>\n",
              "      <td>NaN</td>\n",
              "      <td>NaN</td>\n",
              "    </tr>\n",
              "    <tr>\n",
              "      <th>3</th>\n",
              "      <td>2000</td>\n",
              "      <td>Austria</td>\n",
              "      <td>Lignite</td>\n",
              "      <td>1.292000</td>\n",
              "      <td>2.158641</td>\n",
              "      <td>NaN</td>\n",
              "      <td>NaN</td>\n",
              "    </tr>\n",
              "    <tr>\n",
              "      <th>4</th>\n",
              "      <td>2000</td>\n",
              "      <td>Austria</td>\n",
              "      <td>Gas</td>\n",
              "      <td>7.851000</td>\n",
              "      <td>13.117252</td>\n",
              "      <td>NaN</td>\n",
              "      <td>NaN</td>\n",
              "    </tr>\n",
              "  </tbody>\n",
              "</table>\n",
              "</div>\n",
              "      <button class=\"colab-df-convert\" onclick=\"convertToInteractive('df-f29370aa-a4f1-4444-a082-dc65ea5efa45')\"\n",
              "              title=\"Convert this dataframe to an interactive table.\"\n",
              "              style=\"display:none;\">\n",
              "        \n",
              "  <svg xmlns=\"http://www.w3.org/2000/svg\" height=\"24px\"viewBox=\"0 0 24 24\"\n",
              "       width=\"24px\">\n",
              "    <path d=\"M0 0h24v24H0V0z\" fill=\"none\"/>\n",
              "    <path d=\"M18.56 5.44l.94 2.06.94-2.06 2.06-.94-2.06-.94-.94-2.06-.94 2.06-2.06.94zm-11 1L8.5 8.5l.94-2.06 2.06-.94-2.06-.94L8.5 2.5l-.94 2.06-2.06.94zm10 10l.94 2.06.94-2.06 2.06-.94-2.06-.94-.94-2.06-.94 2.06-2.06.94z\"/><path d=\"M17.41 7.96l-1.37-1.37c-.4-.4-.92-.59-1.43-.59-.52 0-1.04.2-1.43.59L10.3 9.45l-7.72 7.72c-.78.78-.78 2.05 0 2.83L4 21.41c.39.39.9.59 1.41.59.51 0 1.02-.2 1.41-.59l7.78-7.78 2.81-2.81c.8-.78.8-2.07 0-2.86zM5.41 20L4 18.59l7.72-7.72 1.47 1.35L5.41 20z\"/>\n",
              "  </svg>\n",
              "      </button>\n",
              "      \n",
              "  <style>\n",
              "    .colab-df-container {\n",
              "      display:flex;\n",
              "      flex-wrap:wrap;\n",
              "      gap: 12px;\n",
              "    }\n",
              "\n",
              "    .colab-df-convert {\n",
              "      background-color: #E8F0FE;\n",
              "      border: none;\n",
              "      border-radius: 50%;\n",
              "      cursor: pointer;\n",
              "      display: none;\n",
              "      fill: #1967D2;\n",
              "      height: 32px;\n",
              "      padding: 0 0 0 0;\n",
              "      width: 32px;\n",
              "    }\n",
              "\n",
              "    .colab-df-convert:hover {\n",
              "      background-color: #E2EBFA;\n",
              "      box-shadow: 0px 1px 2px rgba(60, 64, 67, 0.3), 0px 1px 3px 1px rgba(60, 64, 67, 0.15);\n",
              "      fill: #174EA6;\n",
              "    }\n",
              "\n",
              "    [theme=dark] .colab-df-convert {\n",
              "      background-color: #3B4455;\n",
              "      fill: #D2E3FC;\n",
              "    }\n",
              "\n",
              "    [theme=dark] .colab-df-convert:hover {\n",
              "      background-color: #434B5C;\n",
              "      box-shadow: 0px 1px 3px 1px rgba(0, 0, 0, 0.15);\n",
              "      filter: drop-shadow(0px 1px 2px rgba(0, 0, 0, 0.3));\n",
              "      fill: #FFFFFF;\n",
              "    }\n",
              "  </style>\n",
              "\n",
              "      <script>\n",
              "        const buttonEl =\n",
              "          document.querySelector('#df-f29370aa-a4f1-4444-a082-dc65ea5efa45 button.colab-df-convert');\n",
              "        buttonEl.style.display =\n",
              "          google.colab.kernel.accessAllowed ? 'block' : 'none';\n",
              "\n",
              "        async function convertToInteractive(key) {\n",
              "          const element = document.querySelector('#df-f29370aa-a4f1-4444-a082-dc65ea5efa45');\n",
              "          const dataTable =\n",
              "            await google.colab.kernel.invokeFunction('convertToInteractive',\n",
              "                                                     [key], {});\n",
              "          if (!dataTable) return;\n",
              "\n",
              "          const docLinkHtml = 'Like what you see? Visit the ' +\n",
              "            '<a target=\"_blank\" href=https://colab.research.google.com/notebooks/data_table.ipynb>data table notebook</a>'\n",
              "            + ' to learn more about interactive tables.';\n",
              "          element.innerHTML = '';\n",
              "          dataTable['output_type'] = 'display_data';\n",
              "          await google.colab.output.renderOutput(dataTable, element);\n",
              "          const docLink = document.createElement('div');\n",
              "          docLink.innerHTML = docLinkHtml;\n",
              "          element.appendChild(docLink);\n",
              "        }\n",
              "      </script>\n",
              "    </div>\n",
              "  </div>\n",
              "  "
            ]
          },
          "metadata": {},
          "execution_count": 199
        }
      ]
    },
    {
      "cell_type": "markdown",
      "source": [
        "### Data Prep/Cleaning\n",
        "\n",
        "1. **Select Columns/Variables**\n",
        "    - select only necessary variables for exploration and drop the rest."
      ],
      "metadata": {
        "id": "D7pTrb0nJf9X"
      }
    },
    {
      "cell_type": "code",
      "source": [
        "# select the columns to use.\n",
        "cols_to_use = ['Year', 'Area', 'Variable', 'Generation (TWh)', 'Share of production (%)', 'Change on last year (%)', 'Change on last year (TWh)']\n",
        "df = df[cols_to_use].copy()\n",
        "df.info()"
      ],
      "metadata": {
        "id": "dMTtDFy-QyfE",
        "colab": {
          "base_uri": "https://localhost:8080/"
        },
        "outputId": "ba5b9a70-24a8-4279-a1e0-22fc4009119e"
      },
      "execution_count": 200,
      "outputs": [
        {
          "output_type": "stream",
          "name": "stdout",
          "text": [
            "<class 'pandas.core.frame.DataFrame'>\n",
            "RangeIndex: 10710 entries, 0 to 10709\n",
            "Data columns (total 7 columns):\n",
            " #   Column                     Non-Null Count  Dtype  \n",
            "---  ------                     --------------  -----  \n",
            " 0   Year                       10710 non-null  int64  \n",
            " 1   Area                       10710 non-null  object \n",
            " 2   Variable                   10710 non-null  object \n",
            " 3   Generation (TWh)           10710 non-null  float64\n",
            " 4   Share of production (%)    8820 non-null   float64\n",
            " 5   Change on last year (%)    8611 non-null   float64\n",
            " 6   Change on last year (TWh)  10200 non-null  float64\n",
            "dtypes: float64(4), int64(1), object(2)\n",
            "memory usage: 585.8+ KB\n"
          ]
        }
      ]
    },
    {
      "cell_type": "markdown",
      "source": [
        "2. **Identify and address duplicates**\n",
        "\n",
        "    - find duplicates from the DataFrame and drop"
      ],
      "metadata": {
        "id": "nLWIuQWm7eki"
      }
    },
    {
      "cell_type": "code",
      "source": [
        "# identify any duplicated rows and drop (keep='first') if any\n",
        "print(f'We found {df.duplicated().sum()} duplicated rows in this DataFrame.')\n",
        "\n",
        "# drop duplicated rows if any and retain the DataFrame if none.\n",
        "if df.duplicated().sum() > 0:\n",
        "  print('We are dropping these duplicated rows.')\n",
        "  clean_df = df.drop_duplicates()\n",
        "else:\n",
        "  print('Since there are 0 duplicated rows, it is safe to continue!')\n",
        "  clean_df = df\n",
        "\n",
        "print(clean_df.shape)"
      ],
      "metadata": {
        "colab": {
          "base_uri": "https://localhost:8080/"
        },
        "id": "XECg51Sy7USx",
        "outputId": "3320240f-c5e3-4522-c001-d1068dbb88ef"
      },
      "execution_count": 201,
      "outputs": [
        {
          "output_type": "stream",
          "name": "stdout",
          "text": [
            "We found 0 duplicated rows in this DataFrame.\n",
            "Since there are 0 duplicated rows, it is safe to continue!\n",
            "(10710, 7)\n"
          ]
        }
      ]
    },
    {
      "cell_type": "markdown",
      "source": [
        "3. **Identify and address missing values**\n",
        "\n",
        "  - find columns with missing values and address them.\n",
        "    - step 1 - drop columns if >= 50% missing values\n",
        "    - step 2 - drop rows if < 2.5% missing values of DataFrame size\n",
        "    - step 3 - categorical imputation using mode\n",
        "    - step 4 - numerical imputation using mean/median"
      ],
      "metadata": {
        "id": "aJW68mhF7uRn"
      }
    },
    {
      "cell_type": "code",
      "source": [
        "from pandas.core.frame import DataFrame\n",
        "# step 1\n",
        "def _drop_cols(df, which_col):\n",
        "  df.dropna(axis = 1, subset = which_col, inplace = True)\n",
        "  return df\n",
        "\n",
        "# step 2\n",
        "def _drop_rows(df, which_col):\n",
        "  df.dropna(subset = which_col, inplace = True)\n",
        "  return df\n",
        "\n",
        "# step 3 - categorical imputaion - mode\n",
        "def _impute_categorical(df, groupby_name, identifier):\n",
        "  identifier_mode = pd.DataFrame(df.groupby(groupby_name)[identifier].apply(pd.Series.mode)).reset_index().drop('level_1', axis=1)\n",
        "\n",
        "  # merge the series to the main dataframe and drop and rename identifier columns\n",
        "  clean_df = df.merge(identifier_mode, on=identifier)\n",
        "  clean_df[f'{identifier}_x'].fillna(clean_df[f'{identifier}_y'], inplace=True)\n",
        "  clean_df = clean_df.rename(columns = {f'{identifier}_x' : f'{identifier}'}).drop(f'{identifier}_y', axis = 1)\n",
        "\n",
        "  print(clean_df[identifier].isna().sum())\n",
        "  return clean_df\n",
        "\n",
        "# step 4 - numerical imputaiton - mean/median/0/min/max\n",
        "def _impute_numerical(df, which_col, impute_with=0):\n",
        "  # set the impute value\n",
        "  if impute_with == 0:\n",
        "    impute_value = 0\n",
        "  elif impute_with == 'mean':\n",
        "    impute_value = df[which_col].mean()\n",
        "  elif impute_with == 'median':\n",
        "    impute_value = df[which_col].median()\n",
        "  elif impute_with == 'min':\n",
        "    impute_value = df[which_col].min()\n",
        "  else:\n",
        "    impute_value = df[which_col].max()\n",
        "  \n",
        "  # perform the imputation based on the selected value.\n",
        "  df[which_col] = df[which_col].fillna(impute_value)\n",
        "\n",
        "  return df\n"
      ],
      "metadata": {
        "id": "HQDNxW_tFKCr"
      },
      "execution_count": 202,
      "outputs": []
    },
    {
      "cell_type": "code",
      "source": [
        "#identify columns with missing values, dtypes and percent of missing values compared to df\n",
        "cols_with_nulls = clean_df.columns[clean_df.isnull().any()]\n",
        "\n",
        "#index the cols_with_nulls and find the dtype and percent of missing values compared to df size\n",
        "print('- Columns with missing values:') \n",
        "for col in cols_with_nulls: \n",
        "  perct_difference = clean_df[col].isna().sum() / len(clean_df.index) \n",
        "  print(f\"\\tColumn Name: '{col}', Column dtype: {clean_df[col].dtype}, perct_difference: {round(perct_difference*100,2)}%\")\n",
        "\n",
        "  #step 1 - if missing values is 50% or more than the DataFrame size\n",
        "  if perct_difference > 0.5: \n",
        "    clean_df = _drop_cols(clean_df, col) \n",
        "  else: \n",
        "    clean_df = clean_df\n",
        "\n",
        "  #step 2 - if missing values are < 2.5% than the DataFrame size\n",
        "  if perct_difference < 0.025: \n",
        "    clean_df = _drop_rows(clean_df, col) \n",
        "  else: \n",
        "    clean_df = clean_df\n",
        "\n",
        "  #step 3 - categorical imputation\n",
        "  if clean_df[col].dtype == 'object': \n",
        "    groupby_name = None #change this to the correct groupby column if there missing categorical variables \n",
        "    clean_df = _impute_categorical(clean_df, groupby_name, col) \n",
        "  else: \n",
        "    clean_df = clean_df\n",
        "\n",
        "  #setp 4 - numerical imputation\n",
        "  if clean_df[col].dtype != 'object':\n",
        "    # set the impute_with to [0, mean, median, min, max] depending on the variable you are imputing.\n",
        "    # with this dataset, we are imputing with 0 since most of the missing values are missing due \n",
        "    # to some comparrison last year which is not in the dataset or there are no data for that specific\n",
        "    # Variable column\n",
        "    clean_df = _impute_numerical(clean_df, col)\n",
        "\n",
        "print('\\nAfter cleaning and imputing missing values, there are:') \n",
        "clean_df.isna().sum()"
      ],
      "metadata": {
        "colab": {
          "base_uri": "https://localhost:8080/"
        },
        "id": "htjziydMB4OZ",
        "outputId": "5a742f1b-403f-49a8-989b-fc5469048522"
      },
      "execution_count": 203,
      "outputs": [
        {
          "output_type": "stream",
          "name": "stdout",
          "text": [
            "- Columns with missing values:\n",
            "\tColumn Name: 'Share of production (%)', Column dtype: float64, perct_difference: 17.65%\n",
            "\tColumn Name: 'Change on last year (%)', Column dtype: float64, perct_difference: 19.6%\n",
            "\tColumn Name: 'Change on last year (TWh)', Column dtype: float64, perct_difference: 4.76%\n",
            "\n",
            "After cleaning and imputing missing values, there are:\n"
          ]
        },
        {
          "output_type": "execute_result",
          "data": {
            "text/plain": [
              "Year                         0\n",
              "Area                         0\n",
              "Variable                     0\n",
              "Generation (TWh)             0\n",
              "Share of production (%)      0\n",
              "Change on last year (%)      0\n",
              "Change on last year (TWh)    0\n",
              "dtype: int64"
            ]
          },
          "metadata": {},
          "execution_count": 203
        }
      ]
    },
    {
      "cell_type": "markdown",
      "source": [
        "4. **Fix inconsistent categorical values**\n",
        "\n",
        "    - find inconsistencies on categorical variables and fix them. (ex: [cat, Cats, cats, Cat])"
      ],
      "metadata": {
        "id": "hWJa8L1bV9yc"
      }
    },
    {
      "cell_type": "code",
      "source": [
        "# check for categorical variable inconsistencies\n",
        "# first grab only all categorical variables and create a new DataFrame\n",
        "cat_df = clean_df.select_dtypes(include = 'object')\n",
        "\n",
        "# iterate these variables and print all unique values to find the inconsistencies. \n",
        "print('- Categorical Variables')\n",
        "for col in list(cat_df):\n",
        "  print(col + ':')\n",
        "  print(f\" \\t> Count of unique values: {str(len(cat_df[col].unique()))}\" )\n",
        "  print(cat_df[col].unique())\n",
        "\n",
        "num_df = clean_df.select_dtypes(include = [np.number])\n",
        "print('- Numeric Variables')\n",
        "for col in list(num_df):\n",
        "  print(col + ':')\n",
        "  print(f\" \\t> Count of unique values: {str(len(num_df[col].unique()))}\" )\n",
        "  print(num_df[col].unique())"
      ],
      "metadata": {
        "colab": {
          "base_uri": "https://localhost:8080/"
        },
        "id": "q4i3Cs3wWQXF",
        "outputId": "81678a44-a59e-445a-ca9c-bed5e933d921"
      },
      "execution_count": 204,
      "outputs": [
        {
          "output_type": "stream",
          "name": "stdout",
          "text": [
            "- Categorical Variables\n",
            "Area:\n",
            " \t> Count of unique values: 30\n",
            "['Austria' 'Belgium' 'Bulgaria' 'Croatia' 'Cyprus' 'Czech Republic'\n",
            " 'Denmark' 'Estonia' 'EU-27' 'EU27+1' 'Finland' 'France' 'Germany'\n",
            " 'Greece' 'Hungary' 'Ireland' 'Italy' 'Latvia' 'Lithuania' 'Luxembourg'\n",
            " 'Malta' 'Netherlands' 'Poland' 'Portugal' 'Romania' 'Slovakia' 'Slovenia'\n",
            " 'Spain' 'Sweden' 'United Kingdom']\n",
            "Variable:\n",
            " \t> Count of unique values: 17\n",
            "['Fossil' 'Coal' 'Hard Coal' 'Lignite' 'Gas' 'Other fossil' 'Nuclear'\n",
            " 'Renewables' 'Hydro' 'Wind and solar' 'Wind' 'Solar' 'Bioenergy'\n",
            " 'Other renewables' 'Production' 'Net imports' 'Demand']\n",
            "- Numeric Variables\n",
            "Year:\n",
            " \t> Count of unique values: 21\n",
            "[2000 2001 2002 2003 2004 2005 2006 2007 2008 2009 2010 2011 2012 2013\n",
            " 2014 2015 2016 2017 2018 2019 2020]\n",
            "Generation (TWh):\n",
            " \t> Count of unique values: 8104\n",
            "[ 16.418859     5.727        4.435      ... 305.47647023  18.2130882\n",
            " 323.68955843]\n",
            "Share of production (%):\n",
            " \t> Count of unique values: 6674\n",
            "[2.74322149e+01 9.56852693e+00 7.40988597e+00 ... 4.37145885e+00\n",
            " 1.16107792e+01 3.04376962e-03]\n",
            "Change on last year (%):\n",
            " \t> Count of unique values: 7910\n",
            "[  0.          14.61825088  20.35969967 ...  -4.39377141 -13.5970318\n",
            "  -4.96335706]\n",
            "Change on last year (TWh):\n",
            " \t> Count of unique values: 7578\n",
            "[  0.           2.40015      1.166      ... -14.03876924  -2.86615084\n",
            " -16.90492008]\n"
          ]
        }
      ]
    },
    {
      "cell_type": "markdown",
      "source": [
        "*After running the code above, we found no inconsistencies in the categorical variables*"
      ],
      "metadata": {
        "id": "pgZwz-BDXL_O"
      }
    },
    {
      "cell_type": "markdown",
      "source": [
        "5. **Check for DataFrame summary statistics**\n",
        "\n",
        "    - you can run `.describe()` method to achieve this"
      ],
      "metadata": {
        "id": "pLC--TVcXsMb"
      }
    },
    {
      "cell_type": "code",
      "source": [
        "clean_df.describe()"
      ],
      "metadata": {
        "colab": {
          "base_uri": "https://localhost:8080/",
          "height": 300
        },
        "id": "z6tDv4b0X6O6",
        "outputId": "c7002381-b17b-4741-accb-def14a5764fd"
      },
      "execution_count": 205,
      "outputs": [
        {
          "output_type": "execute_result",
          "data": {
            "text/plain": [
              "               Year  Generation (TWh)  Share of production (%)  \\\n",
              "count  10710.000000      10710.000000             10710.000000   \n",
              "mean    2010.000000         73.872794                12.282539   \n",
              "std        6.055583        305.631550                20.556345   \n",
              "min     2000.000000        -77.034000                -2.283799   \n",
              "25%     2005.000000          0.062750                 0.000000   \n",
              "50%     2010.000000          4.348132                 1.965882   \n",
              "75%     2015.000000         26.433729                15.666894   \n",
              "max     2020.000000       3374.604373               100.000000   \n",
              "\n",
              "       Change on last year (%)  Change on last year (TWh)  \n",
              "count             1.071000e+04               10710.000000  \n",
              "mean                       inf                   0.176356  \n",
              "std                        NaN                  10.991492  \n",
              "min              -2.282727e+04                -166.200793  \n",
              "25%              -2.202591e+00                  -0.104810  \n",
              "50%               0.000000e+00                   0.000000  \n",
              "75%               1.017242e+01                   0.524811  \n",
              "max                        inf                 143.012838  "
            ],
            "text/html": [
              "\n",
              "  <div id=\"df-81fa49b9-6a4f-4d0e-9e35-81548866b0e0\">\n",
              "    <div class=\"colab-df-container\">\n",
              "      <div>\n",
              "<style scoped>\n",
              "    .dataframe tbody tr th:only-of-type {\n",
              "        vertical-align: middle;\n",
              "    }\n",
              "\n",
              "    .dataframe tbody tr th {\n",
              "        vertical-align: top;\n",
              "    }\n",
              "\n",
              "    .dataframe thead th {\n",
              "        text-align: right;\n",
              "    }\n",
              "</style>\n",
              "<table border=\"1\" class=\"dataframe\">\n",
              "  <thead>\n",
              "    <tr style=\"text-align: right;\">\n",
              "      <th></th>\n",
              "      <th>Year</th>\n",
              "      <th>Generation (TWh)</th>\n",
              "      <th>Share of production (%)</th>\n",
              "      <th>Change on last year (%)</th>\n",
              "      <th>Change on last year (TWh)</th>\n",
              "    </tr>\n",
              "  </thead>\n",
              "  <tbody>\n",
              "    <tr>\n",
              "      <th>count</th>\n",
              "      <td>10710.000000</td>\n",
              "      <td>10710.000000</td>\n",
              "      <td>10710.000000</td>\n",
              "      <td>1.071000e+04</td>\n",
              "      <td>10710.000000</td>\n",
              "    </tr>\n",
              "    <tr>\n",
              "      <th>mean</th>\n",
              "      <td>2010.000000</td>\n",
              "      <td>73.872794</td>\n",
              "      <td>12.282539</td>\n",
              "      <td>inf</td>\n",
              "      <td>0.176356</td>\n",
              "    </tr>\n",
              "    <tr>\n",
              "      <th>std</th>\n",
              "      <td>6.055583</td>\n",
              "      <td>305.631550</td>\n",
              "      <td>20.556345</td>\n",
              "      <td>NaN</td>\n",
              "      <td>10.991492</td>\n",
              "    </tr>\n",
              "    <tr>\n",
              "      <th>min</th>\n",
              "      <td>2000.000000</td>\n",
              "      <td>-77.034000</td>\n",
              "      <td>-2.283799</td>\n",
              "      <td>-2.282727e+04</td>\n",
              "      <td>-166.200793</td>\n",
              "    </tr>\n",
              "    <tr>\n",
              "      <th>25%</th>\n",
              "      <td>2005.000000</td>\n",
              "      <td>0.062750</td>\n",
              "      <td>0.000000</td>\n",
              "      <td>-2.202591e+00</td>\n",
              "      <td>-0.104810</td>\n",
              "    </tr>\n",
              "    <tr>\n",
              "      <th>50%</th>\n",
              "      <td>2010.000000</td>\n",
              "      <td>4.348132</td>\n",
              "      <td>1.965882</td>\n",
              "      <td>0.000000e+00</td>\n",
              "      <td>0.000000</td>\n",
              "    </tr>\n",
              "    <tr>\n",
              "      <th>75%</th>\n",
              "      <td>2015.000000</td>\n",
              "      <td>26.433729</td>\n",
              "      <td>15.666894</td>\n",
              "      <td>1.017242e+01</td>\n",
              "      <td>0.524811</td>\n",
              "    </tr>\n",
              "    <tr>\n",
              "      <th>max</th>\n",
              "      <td>2020.000000</td>\n",
              "      <td>3374.604373</td>\n",
              "      <td>100.000000</td>\n",
              "      <td>inf</td>\n",
              "      <td>143.012838</td>\n",
              "    </tr>\n",
              "  </tbody>\n",
              "</table>\n",
              "</div>\n",
              "      <button class=\"colab-df-convert\" onclick=\"convertToInteractive('df-81fa49b9-6a4f-4d0e-9e35-81548866b0e0')\"\n",
              "              title=\"Convert this dataframe to an interactive table.\"\n",
              "              style=\"display:none;\">\n",
              "        \n",
              "  <svg xmlns=\"http://www.w3.org/2000/svg\" height=\"24px\"viewBox=\"0 0 24 24\"\n",
              "       width=\"24px\">\n",
              "    <path d=\"M0 0h24v24H0V0z\" fill=\"none\"/>\n",
              "    <path d=\"M18.56 5.44l.94 2.06.94-2.06 2.06-.94-2.06-.94-.94-2.06-.94 2.06-2.06.94zm-11 1L8.5 8.5l.94-2.06 2.06-.94-2.06-.94L8.5 2.5l-.94 2.06-2.06.94zm10 10l.94 2.06.94-2.06 2.06-.94-2.06-.94-.94-2.06-.94 2.06-2.06.94z\"/><path d=\"M17.41 7.96l-1.37-1.37c-.4-.4-.92-.59-1.43-.59-.52 0-1.04.2-1.43.59L10.3 9.45l-7.72 7.72c-.78.78-.78 2.05 0 2.83L4 21.41c.39.39.9.59 1.41.59.51 0 1.02-.2 1.41-.59l7.78-7.78 2.81-2.81c.8-.78.8-2.07 0-2.86zM5.41 20L4 18.59l7.72-7.72 1.47 1.35L5.41 20z\"/>\n",
              "  </svg>\n",
              "      </button>\n",
              "      \n",
              "  <style>\n",
              "    .colab-df-container {\n",
              "      display:flex;\n",
              "      flex-wrap:wrap;\n",
              "      gap: 12px;\n",
              "    }\n",
              "\n",
              "    .colab-df-convert {\n",
              "      background-color: #E8F0FE;\n",
              "      border: none;\n",
              "      border-radius: 50%;\n",
              "      cursor: pointer;\n",
              "      display: none;\n",
              "      fill: #1967D2;\n",
              "      height: 32px;\n",
              "      padding: 0 0 0 0;\n",
              "      width: 32px;\n",
              "    }\n",
              "\n",
              "    .colab-df-convert:hover {\n",
              "      background-color: #E2EBFA;\n",
              "      box-shadow: 0px 1px 2px rgba(60, 64, 67, 0.3), 0px 1px 3px 1px rgba(60, 64, 67, 0.15);\n",
              "      fill: #174EA6;\n",
              "    }\n",
              "\n",
              "    [theme=dark] .colab-df-convert {\n",
              "      background-color: #3B4455;\n",
              "      fill: #D2E3FC;\n",
              "    }\n",
              "\n",
              "    [theme=dark] .colab-df-convert:hover {\n",
              "      background-color: #434B5C;\n",
              "      box-shadow: 0px 1px 3px 1px rgba(0, 0, 0, 0.15);\n",
              "      filter: drop-shadow(0px 1px 2px rgba(0, 0, 0, 0.3));\n",
              "      fill: #FFFFFF;\n",
              "    }\n",
              "  </style>\n",
              "\n",
              "      <script>\n",
              "        const buttonEl =\n",
              "          document.querySelector('#df-81fa49b9-6a4f-4d0e-9e35-81548866b0e0 button.colab-df-convert');\n",
              "        buttonEl.style.display =\n",
              "          google.colab.kernel.accessAllowed ? 'block' : 'none';\n",
              "\n",
              "        async function convertToInteractive(key) {\n",
              "          const element = document.querySelector('#df-81fa49b9-6a4f-4d0e-9e35-81548866b0e0');\n",
              "          const dataTable =\n",
              "            await google.colab.kernel.invokeFunction('convertToInteractive',\n",
              "                                                     [key], {});\n",
              "          if (!dataTable) return;\n",
              "\n",
              "          const docLinkHtml = 'Like what you see? Visit the ' +\n",
              "            '<a target=\"_blank\" href=https://colab.research.google.com/notebooks/data_table.ipynb>data table notebook</a>'\n",
              "            + ' to learn more about interactive tables.';\n",
              "          element.innerHTML = '';\n",
              "          dataTable['output_type'] = 'display_data';\n",
              "          await google.colab.output.renderOutput(dataTable, element);\n",
              "          const docLink = document.createElement('div');\n",
              "          docLink.innerHTML = docLinkHtml;\n",
              "          element.appendChild(docLink);\n",
              "        }\n",
              "      </script>\n",
              "    </div>\n",
              "  </div>\n",
              "  "
            ]
          },
          "metadata": {},
          "execution_count": 205
        }
      ]
    },
    {
      "cell_type": "markdown",
      "source": [
        "*After running `clean_df.describe()` we found that the variable `Change on last year (%)` has an `inf` value, since this is a percentage column, INF usually happens when you divide a number by 0 in mathematical calculations, therefore we will impute these values as 0 instead.*"
      ],
      "metadata": {
        "id": "DIGh2wK_bAQP"
      }
    },
    {
      "cell_type": "code",
      "source": [
        "clean_df['Change on last year (%)'] = clean_df['Change on last year (%)'].replace([np.inf, -np.inf], 0)\n",
        "clean_df.describe()"
      ],
      "metadata": {
        "colab": {
          "base_uri": "https://localhost:8080/",
          "height": 300
        },
        "id": "_w1973ckbeql",
        "outputId": "ef5da4c3-5c7a-4538-c9ef-57c001df609a"
      },
      "execution_count": 206,
      "outputs": [
        {
          "output_type": "execute_result",
          "data": {
            "text/plain": [
              "               Year  Generation (TWh)  Share of production (%)  \\\n",
              "count  10710.000000      10710.000000             10710.000000   \n",
              "mean    2010.000000         73.872794                12.282539   \n",
              "std        6.055583        305.631550                20.556345   \n",
              "min     2000.000000        -77.034000                -2.283799   \n",
              "25%     2005.000000          0.062750                 0.000000   \n",
              "50%     2010.000000          4.348132                 1.965882   \n",
              "75%     2015.000000         26.433729                15.666894   \n",
              "max     2020.000000       3374.604373               100.000000   \n",
              "\n",
              "       Change on last year (%)  Change on last year (TWh)  \n",
              "count             10710.000000               10710.000000  \n",
              "mean                 15.622190                   0.176356  \n",
              "std                 528.209693                  10.991492  \n",
              "min              -22827.272727                -166.200793  \n",
              "25%                  -2.202591                  -0.104810  \n",
              "50%                   0.000000                   0.000000  \n",
              "75%                   9.590997                   0.524811  \n",
              "max               46500.000000                 143.012838  "
            ],
            "text/html": [
              "\n",
              "  <div id=\"df-f886f717-1e31-4c96-b6e9-86e046947c4f\">\n",
              "    <div class=\"colab-df-container\">\n",
              "      <div>\n",
              "<style scoped>\n",
              "    .dataframe tbody tr th:only-of-type {\n",
              "        vertical-align: middle;\n",
              "    }\n",
              "\n",
              "    .dataframe tbody tr th {\n",
              "        vertical-align: top;\n",
              "    }\n",
              "\n",
              "    .dataframe thead th {\n",
              "        text-align: right;\n",
              "    }\n",
              "</style>\n",
              "<table border=\"1\" class=\"dataframe\">\n",
              "  <thead>\n",
              "    <tr style=\"text-align: right;\">\n",
              "      <th></th>\n",
              "      <th>Year</th>\n",
              "      <th>Generation (TWh)</th>\n",
              "      <th>Share of production (%)</th>\n",
              "      <th>Change on last year (%)</th>\n",
              "      <th>Change on last year (TWh)</th>\n",
              "    </tr>\n",
              "  </thead>\n",
              "  <tbody>\n",
              "    <tr>\n",
              "      <th>count</th>\n",
              "      <td>10710.000000</td>\n",
              "      <td>10710.000000</td>\n",
              "      <td>10710.000000</td>\n",
              "      <td>10710.000000</td>\n",
              "      <td>10710.000000</td>\n",
              "    </tr>\n",
              "    <tr>\n",
              "      <th>mean</th>\n",
              "      <td>2010.000000</td>\n",
              "      <td>73.872794</td>\n",
              "      <td>12.282539</td>\n",
              "      <td>15.622190</td>\n",
              "      <td>0.176356</td>\n",
              "    </tr>\n",
              "    <tr>\n",
              "      <th>std</th>\n",
              "      <td>6.055583</td>\n",
              "      <td>305.631550</td>\n",
              "      <td>20.556345</td>\n",
              "      <td>528.209693</td>\n",
              "      <td>10.991492</td>\n",
              "    </tr>\n",
              "    <tr>\n",
              "      <th>min</th>\n",
              "      <td>2000.000000</td>\n",
              "      <td>-77.034000</td>\n",
              "      <td>-2.283799</td>\n",
              "      <td>-22827.272727</td>\n",
              "      <td>-166.200793</td>\n",
              "    </tr>\n",
              "    <tr>\n",
              "      <th>25%</th>\n",
              "      <td>2005.000000</td>\n",
              "      <td>0.062750</td>\n",
              "      <td>0.000000</td>\n",
              "      <td>-2.202591</td>\n",
              "      <td>-0.104810</td>\n",
              "    </tr>\n",
              "    <tr>\n",
              "      <th>50%</th>\n",
              "      <td>2010.000000</td>\n",
              "      <td>4.348132</td>\n",
              "      <td>1.965882</td>\n",
              "      <td>0.000000</td>\n",
              "      <td>0.000000</td>\n",
              "    </tr>\n",
              "    <tr>\n",
              "      <th>75%</th>\n",
              "      <td>2015.000000</td>\n",
              "      <td>26.433729</td>\n",
              "      <td>15.666894</td>\n",
              "      <td>9.590997</td>\n",
              "      <td>0.524811</td>\n",
              "    </tr>\n",
              "    <tr>\n",
              "      <th>max</th>\n",
              "      <td>2020.000000</td>\n",
              "      <td>3374.604373</td>\n",
              "      <td>100.000000</td>\n",
              "      <td>46500.000000</td>\n",
              "      <td>143.012838</td>\n",
              "    </tr>\n",
              "  </tbody>\n",
              "</table>\n",
              "</div>\n",
              "      <button class=\"colab-df-convert\" onclick=\"convertToInteractive('df-f886f717-1e31-4c96-b6e9-86e046947c4f')\"\n",
              "              title=\"Convert this dataframe to an interactive table.\"\n",
              "              style=\"display:none;\">\n",
              "        \n",
              "  <svg xmlns=\"http://www.w3.org/2000/svg\" height=\"24px\"viewBox=\"0 0 24 24\"\n",
              "       width=\"24px\">\n",
              "    <path d=\"M0 0h24v24H0V0z\" fill=\"none\"/>\n",
              "    <path d=\"M18.56 5.44l.94 2.06.94-2.06 2.06-.94-2.06-.94-.94-2.06-.94 2.06-2.06.94zm-11 1L8.5 8.5l.94-2.06 2.06-.94-2.06-.94L8.5 2.5l-.94 2.06-2.06.94zm10 10l.94 2.06.94-2.06 2.06-.94-2.06-.94-.94-2.06-.94 2.06-2.06.94z\"/><path d=\"M17.41 7.96l-1.37-1.37c-.4-.4-.92-.59-1.43-.59-.52 0-1.04.2-1.43.59L10.3 9.45l-7.72 7.72c-.78.78-.78 2.05 0 2.83L4 21.41c.39.39.9.59 1.41.59.51 0 1.02-.2 1.41-.59l7.78-7.78 2.81-2.81c.8-.78.8-2.07 0-2.86zM5.41 20L4 18.59l7.72-7.72 1.47 1.35L5.41 20z\"/>\n",
              "  </svg>\n",
              "      </button>\n",
              "      \n",
              "  <style>\n",
              "    .colab-df-container {\n",
              "      display:flex;\n",
              "      flex-wrap:wrap;\n",
              "      gap: 12px;\n",
              "    }\n",
              "\n",
              "    .colab-df-convert {\n",
              "      background-color: #E8F0FE;\n",
              "      border: none;\n",
              "      border-radius: 50%;\n",
              "      cursor: pointer;\n",
              "      display: none;\n",
              "      fill: #1967D2;\n",
              "      height: 32px;\n",
              "      padding: 0 0 0 0;\n",
              "      width: 32px;\n",
              "    }\n",
              "\n",
              "    .colab-df-convert:hover {\n",
              "      background-color: #E2EBFA;\n",
              "      box-shadow: 0px 1px 2px rgba(60, 64, 67, 0.3), 0px 1px 3px 1px rgba(60, 64, 67, 0.15);\n",
              "      fill: #174EA6;\n",
              "    }\n",
              "\n",
              "    [theme=dark] .colab-df-convert {\n",
              "      background-color: #3B4455;\n",
              "      fill: #D2E3FC;\n",
              "    }\n",
              "\n",
              "    [theme=dark] .colab-df-convert:hover {\n",
              "      background-color: #434B5C;\n",
              "      box-shadow: 0px 1px 3px 1px rgba(0, 0, 0, 0.15);\n",
              "      filter: drop-shadow(0px 1px 2px rgba(0, 0, 0, 0.3));\n",
              "      fill: #FFFFFF;\n",
              "    }\n",
              "  </style>\n",
              "\n",
              "      <script>\n",
              "        const buttonEl =\n",
              "          document.querySelector('#df-f886f717-1e31-4c96-b6e9-86e046947c4f button.colab-df-convert');\n",
              "        buttonEl.style.display =\n",
              "          google.colab.kernel.accessAllowed ? 'block' : 'none';\n",
              "\n",
              "        async function convertToInteractive(key) {\n",
              "          const element = document.querySelector('#df-f886f717-1e31-4c96-b6e9-86e046947c4f');\n",
              "          const dataTable =\n",
              "            await google.colab.kernel.invokeFunction('convertToInteractive',\n",
              "                                                     [key], {});\n",
              "          if (!dataTable) return;\n",
              "\n",
              "          const docLinkHtml = 'Like what you see? Visit the ' +\n",
              "            '<a target=\"_blank\" href=https://colab.research.google.com/notebooks/data_table.ipynb>data table notebook</a>'\n",
              "            + ' to learn more about interactive tables.';\n",
              "          element.innerHTML = '';\n",
              "          dataTable['output_type'] = 'display_data';\n",
              "          await google.colab.output.renderOutput(dataTable, element);\n",
              "          const docLink = document.createElement('div');\n",
              "          docLink.innerHTML = docLinkHtml;\n",
              "          element.appendChild(docLink);\n",
              "        }\n",
              "      </script>\n",
              "    </div>\n",
              "  </div>\n",
              "  "
            ]
          },
          "metadata": {},
          "execution_count": 206
        }
      ]
    },
    {
      "cell_type": "markdown",
      "source": [
        "**Data is cleaned and ready for Exploratory Visualization**"
      ],
      "metadata": {
        "id": "rPgYR9PSai-4"
      }
    },
    {
      "cell_type": "markdown",
      "source": [
        "### Exploratory Visualization\n",
        "\n",
        "TODOS:\n",
        "\n",
        "- [x] Tell a story about your data using some visualization\n",
        "- [x] Add some context to your visualizations via the text blocks"
      ],
      "metadata": {
        "id": "TC6gv2I3gu57"
      }
    },
    {
      "cell_type": "code",
      "source": [
        "# run df.info and df.head to get another look at the data\n",
        "display(df.info())\n",
        "\n",
        "df.head()"
      ],
      "metadata": {
        "colab": {
          "base_uri": "https://localhost:8080/",
          "height": 511
        },
        "id": "w1yGvqjdhcIg",
        "outputId": "2f89105c-caad-4c3b-c950-afa970ed614f"
      },
      "execution_count": 207,
      "outputs": [
        {
          "output_type": "stream",
          "name": "stdout",
          "text": [
            "<class 'pandas.core.frame.DataFrame'>\n",
            "RangeIndex: 10710 entries, 0 to 10709\n",
            "Data columns (total 7 columns):\n",
            " #   Column                     Non-Null Count  Dtype  \n",
            "---  ------                     --------------  -----  \n",
            " 0   Year                       10710 non-null  int64  \n",
            " 1   Area                       10710 non-null  object \n",
            " 2   Variable                   10710 non-null  object \n",
            " 3   Generation (TWh)           10710 non-null  float64\n",
            " 4   Share of production (%)    10710 non-null  float64\n",
            " 5   Change on last year (%)    10710 non-null  float64\n",
            " 6   Change on last year (TWh)  10710 non-null  float64\n",
            "dtypes: float64(4), int64(1), object(2)\n",
            "memory usage: 585.8+ KB\n"
          ]
        },
        {
          "output_type": "display_data",
          "data": {
            "text/plain": [
              "None"
            ]
          },
          "metadata": {}
        },
        {
          "output_type": "execute_result",
          "data": {
            "text/plain": [
              "   Year     Area   Variable  Generation (TWh)  Share of production (%)  \\\n",
              "0  2000  Austria     Fossil         16.418859                27.432215   \n",
              "1  2000  Austria       Coal          5.727000                 9.568527   \n",
              "2  2000  Austria  Hard Coal          4.435000                 7.409886   \n",
              "3  2000  Austria    Lignite          1.292000                 2.158641   \n",
              "4  2000  Austria        Gas          7.851000                13.117252   \n",
              "\n",
              "   Change on last year (%)  Change on last year (TWh)  \n",
              "0                      0.0                        0.0  \n",
              "1                      0.0                        0.0  \n",
              "2                      0.0                        0.0  \n",
              "3                      0.0                        0.0  \n",
              "4                      0.0                        0.0  "
            ],
            "text/html": [
              "\n",
              "  <div id=\"df-6a5913e0-36e4-42ee-adbf-89046870a6d5\">\n",
              "    <div class=\"colab-df-container\">\n",
              "      <div>\n",
              "<style scoped>\n",
              "    .dataframe tbody tr th:only-of-type {\n",
              "        vertical-align: middle;\n",
              "    }\n",
              "\n",
              "    .dataframe tbody tr th {\n",
              "        vertical-align: top;\n",
              "    }\n",
              "\n",
              "    .dataframe thead th {\n",
              "        text-align: right;\n",
              "    }\n",
              "</style>\n",
              "<table border=\"1\" class=\"dataframe\">\n",
              "  <thead>\n",
              "    <tr style=\"text-align: right;\">\n",
              "      <th></th>\n",
              "      <th>Year</th>\n",
              "      <th>Area</th>\n",
              "      <th>Variable</th>\n",
              "      <th>Generation (TWh)</th>\n",
              "      <th>Share of production (%)</th>\n",
              "      <th>Change on last year (%)</th>\n",
              "      <th>Change on last year (TWh)</th>\n",
              "    </tr>\n",
              "  </thead>\n",
              "  <tbody>\n",
              "    <tr>\n",
              "      <th>0</th>\n",
              "      <td>2000</td>\n",
              "      <td>Austria</td>\n",
              "      <td>Fossil</td>\n",
              "      <td>16.418859</td>\n",
              "      <td>27.432215</td>\n",
              "      <td>0.0</td>\n",
              "      <td>0.0</td>\n",
              "    </tr>\n",
              "    <tr>\n",
              "      <th>1</th>\n",
              "      <td>2000</td>\n",
              "      <td>Austria</td>\n",
              "      <td>Coal</td>\n",
              "      <td>5.727000</td>\n",
              "      <td>9.568527</td>\n",
              "      <td>0.0</td>\n",
              "      <td>0.0</td>\n",
              "    </tr>\n",
              "    <tr>\n",
              "      <th>2</th>\n",
              "      <td>2000</td>\n",
              "      <td>Austria</td>\n",
              "      <td>Hard Coal</td>\n",
              "      <td>4.435000</td>\n",
              "      <td>7.409886</td>\n",
              "      <td>0.0</td>\n",
              "      <td>0.0</td>\n",
              "    </tr>\n",
              "    <tr>\n",
              "      <th>3</th>\n",
              "      <td>2000</td>\n",
              "      <td>Austria</td>\n",
              "      <td>Lignite</td>\n",
              "      <td>1.292000</td>\n",
              "      <td>2.158641</td>\n",
              "      <td>0.0</td>\n",
              "      <td>0.0</td>\n",
              "    </tr>\n",
              "    <tr>\n",
              "      <th>4</th>\n",
              "      <td>2000</td>\n",
              "      <td>Austria</td>\n",
              "      <td>Gas</td>\n",
              "      <td>7.851000</td>\n",
              "      <td>13.117252</td>\n",
              "      <td>0.0</td>\n",
              "      <td>0.0</td>\n",
              "    </tr>\n",
              "  </tbody>\n",
              "</table>\n",
              "</div>\n",
              "      <button class=\"colab-df-convert\" onclick=\"convertToInteractive('df-6a5913e0-36e4-42ee-adbf-89046870a6d5')\"\n",
              "              title=\"Convert this dataframe to an interactive table.\"\n",
              "              style=\"display:none;\">\n",
              "        \n",
              "  <svg xmlns=\"http://www.w3.org/2000/svg\" height=\"24px\"viewBox=\"0 0 24 24\"\n",
              "       width=\"24px\">\n",
              "    <path d=\"M0 0h24v24H0V0z\" fill=\"none\"/>\n",
              "    <path d=\"M18.56 5.44l.94 2.06.94-2.06 2.06-.94-2.06-.94-.94-2.06-.94 2.06-2.06.94zm-11 1L8.5 8.5l.94-2.06 2.06-.94-2.06-.94L8.5 2.5l-.94 2.06-2.06.94zm10 10l.94 2.06.94-2.06 2.06-.94-2.06-.94-.94-2.06-.94 2.06-2.06.94z\"/><path d=\"M17.41 7.96l-1.37-1.37c-.4-.4-.92-.59-1.43-.59-.52 0-1.04.2-1.43.59L10.3 9.45l-7.72 7.72c-.78.78-.78 2.05 0 2.83L4 21.41c.39.39.9.59 1.41.59.51 0 1.02-.2 1.41-.59l7.78-7.78 2.81-2.81c.8-.78.8-2.07 0-2.86zM5.41 20L4 18.59l7.72-7.72 1.47 1.35L5.41 20z\"/>\n",
              "  </svg>\n",
              "      </button>\n",
              "      \n",
              "  <style>\n",
              "    .colab-df-container {\n",
              "      display:flex;\n",
              "      flex-wrap:wrap;\n",
              "      gap: 12px;\n",
              "    }\n",
              "\n",
              "    .colab-df-convert {\n",
              "      background-color: #E8F0FE;\n",
              "      border: none;\n",
              "      border-radius: 50%;\n",
              "      cursor: pointer;\n",
              "      display: none;\n",
              "      fill: #1967D2;\n",
              "      height: 32px;\n",
              "      padding: 0 0 0 0;\n",
              "      width: 32px;\n",
              "    }\n",
              "\n",
              "    .colab-df-convert:hover {\n",
              "      background-color: #E2EBFA;\n",
              "      box-shadow: 0px 1px 2px rgba(60, 64, 67, 0.3), 0px 1px 3px 1px rgba(60, 64, 67, 0.15);\n",
              "      fill: #174EA6;\n",
              "    }\n",
              "\n",
              "    [theme=dark] .colab-df-convert {\n",
              "      background-color: #3B4455;\n",
              "      fill: #D2E3FC;\n",
              "    }\n",
              "\n",
              "    [theme=dark] .colab-df-convert:hover {\n",
              "      background-color: #434B5C;\n",
              "      box-shadow: 0px 1px 3px 1px rgba(0, 0, 0, 0.15);\n",
              "      filter: drop-shadow(0px 1px 2px rgba(0, 0, 0, 0.3));\n",
              "      fill: #FFFFFF;\n",
              "    }\n",
              "  </style>\n",
              "\n",
              "      <script>\n",
              "        const buttonEl =\n",
              "          document.querySelector('#df-6a5913e0-36e4-42ee-adbf-89046870a6d5 button.colab-df-convert');\n",
              "        buttonEl.style.display =\n",
              "          google.colab.kernel.accessAllowed ? 'block' : 'none';\n",
              "\n",
              "        async function convertToInteractive(key) {\n",
              "          const element = document.querySelector('#df-6a5913e0-36e4-42ee-adbf-89046870a6d5');\n",
              "          const dataTable =\n",
              "            await google.colab.kernel.invokeFunction('convertToInteractive',\n",
              "                                                     [key], {});\n",
              "          if (!dataTable) return;\n",
              "\n",
              "          const docLinkHtml = 'Like what you see? Visit the ' +\n",
              "            '<a target=\"_blank\" href=https://colab.research.google.com/notebooks/data_table.ipynb>data table notebook</a>'\n",
              "            + ' to learn more about interactive tables.';\n",
              "          element.innerHTML = '';\n",
              "          dataTable['output_type'] = 'display_data';\n",
              "          await google.colab.output.renderOutput(dataTable, element);\n",
              "          const docLink = document.createElement('div');\n",
              "          docLink.innerHTML = docLinkHtml;\n",
              "          element.appendChild(docLink);\n",
              "        }\n",
              "      </script>\n",
              "    </div>\n",
              "  </div>\n",
              "  "
            ]
          },
          "metadata": {},
          "execution_count": 207
        }
      ]
    },
    {
      "cell_type": "markdown",
      "source": [
        "**Original Visualization from Makeover Monday**\n",
        "\n",
        "A timeseries line chart that show the trend of Fossil and Renewables and their sub-cateory `[Coal, Wind and Solar]` over time."
      ],
      "metadata": {
        "id": "gb0xXtflYGBd"
      }
    },
    {
      "cell_type": "code",
      "source": [
        "## filter necessary Variable columns.\n",
        "energy_sources_category = ['Fossil', 'Coal', 'Renewables', 'Wind and solar']\n",
        "country_list = ['EU-27']\n",
        "\n",
        "# filter DataFrame based on the set filter\n",
        "esc_filter = clean_df['Variable'].isin(energy_sources_category)\n",
        "country_filter = clean_df['Area'].isin(country_list)\n",
        "esc_df_ts = clean_df.loc[country_filter & esc_filter, :]\n",
        "\n",
        "# set fig,ax \n",
        "sns.set_context('talk')\n",
        "fig, ax = plt.subplots(figsize=(20,10))\n",
        "\n",
        "# plot the line graph\n",
        "sns.lineplot(\n",
        "    data = esc_df_ts, \n",
        "    x = pd.to_datetime(clean_df['Year'], format='%Y'), \n",
        "    y = 'Share of production (%)', \n",
        "    hue='Variable',  \n",
        "    marker = 'o',\n",
        "    ci = None,\n",
        "    palette = ['k','k','green','green'],\n",
        "    legend=None\n",
        "  )\n",
        "\n",
        "# set line styles\n",
        "ax.lines[1].set_linestyle('--')\n",
        "ax.lines[3].set_linestyle('--')\n",
        "\n",
        "# removing spines\n",
        "ax.spines['top'].set_visible(False)\n",
        "ax.spines['right'].set_visible(False)\n",
        "\n",
        "# set titles and subtitles\n",
        "plt.title('Renewables overtakes fossil fuels', fontsize = 20, fontweight='bold', loc='left', y = 1.05)\n",
        "plt.suptitle('% share of electricity production in EU-27', fontsize = 15, x = 0.235, y = 0.91)\n",
        "\n",
        "# yaxis format\n",
        "generation_fmt = mpl.ticker.StrMethodFormatter('{x:,.0f} %')\n",
        "ax.yaxis.set_major_formatter(generation_fmt)\n",
        "\n",
        "# code grabbed from : https://lost-stats.github.io/Presentation/Figures/line_graph_with_labels_at_the_beginning_or_end.html\n",
        "# Add the text--for each line, find the end, annotate it with a label, and\n",
        "# adjust the chart axes so that everything fits on.\n",
        "for line, name in zip(ax.lines, energy_sources_category):\n",
        "\ty = line.get_ydata()[-1]\n",
        "\tx = line.get_xdata()[-1]\n",
        "\tif not np.isfinite(y):\n",
        "\t    y=next(reversed(line.get_ydata()[~line.get_ydata().mask]),float(\"nan\"))\n",
        "\tif not np.isfinite(y) or not np.isfinite(x):\n",
        "\t    continue     \n",
        "\ttext = ax.annotate(name,\n",
        "\t\t       xy=(x, y),\n",
        "\t\t       xytext=(10, 0),\n",
        "\t\t       color=line.get_color(),\n",
        "\t\t       xycoords=(ax.get_xaxis_transform(),ax.get_yaxis_transform()),\n",
        "\t\t       textcoords=\"offset points\")\n",
        "\ttext_width = (text.get_window_extent(\n",
        "\tfig.canvas.get_renderer()).transformed(ax.transData.inverted()).width)\n",
        "\tif np.isfinite(text_width):\n",
        "\t\tax.set_xlim(ax.get_xlim()[0], text.xy[0] + text_width * 1.05)\n",
        "  \n",
        "# set y grid visible\n",
        "plt.grid(visible = True, axis = 'y', color = 'grey', linewidth = 0.2)\n",
        "\n"
      ],
      "metadata": {
        "colab": {
          "base_uri": "https://localhost:8080/",
          "height": 524
        },
        "id": "1Qrn6Ue1hqSn",
        "outputId": "cb93980a-668e-424a-e413-4d59dacbe4da"
      },
      "execution_count": 208,
      "outputs": [
        {
          "output_type": "display_data",
          "data": {
            "text/plain": [
              "<Figure size 1440x720 with 1 Axes>"
            ],
            "image/png": "[encoded data removed]"
          },
          "metadata": {
            "needs_background": "light"
          }
        }
      ]
    },
    {
      "cell_type": "markdown",
      "source": [
        "*As shown in the visual above, Renewables has taken over Fossil fuels in terms of % share of electric production in EU-27 areas in the year 2020 and the trend is looking positive for the Renewables and Fossil fuels are in the decreasing trends.*"
      ],
      "metadata": {
        "id": "Q8dSAwEENdAY"
      }
    },
    {
      "cell_type": "markdown",
      "source": [
        "**Top 10 Renewable Sources by Country Dashboard**\n",
        "\n",
        "A Horizontal bar graph showing the top 10 renewable sources by country"
      ],
      "metadata": {
        "id": "-1USh9rujVgq"
      }
    },
    {
      "cell_type": "code",
      "source": [
        "# set renewable list\n",
        "energy_sources_renewable_sub_category = ['Hydro',\n",
        "                                         'Wind',\n",
        "                                         'Solar',\n",
        "                                         'Bioenergy',\n",
        "                                         'Other renewables']\n",
        "\n",
        "not_country_list = ['EU-27', 'EU27+1']\n",
        "\n",
        "# set the renewable filter\n",
        "renewable_filter = clean_df['Variable'].isin(energy_sources_renewable_sub_category)\n",
        "not_country_filter = clean_df['Area'].isin(not_country_list)\n",
        "# filter the dataframe and sort by generation and get the top 10\n",
        "renewable_df = clean_df.loc[~not_country_filter & renewable_filter].copy()\n",
        "area_var_agg_sum_gen = renewable_df.groupby(['Area', 'Variable'])[['Generation (TWh)']].sum()\n",
        "top10_renewable_country = area_var_agg_sum_gen.sort_values('Generation (TWh)', ascending=False).reset_index().head(10)\n",
        "\n",
        "# set fig and axes of the plot\n",
        "sns.set_context('talk')\n",
        "fig, ax = plt.subplots(figsize = (8,5))\n",
        "\n",
        "# plot the data to a horizontal bar chart\n",
        "sns.color_palette('pastel')\n",
        "sns.barplot(\n",
        "    x = 'Generation (TWh)', \n",
        "    y = 'Area', \n",
        "    hue = 'Variable', \n",
        "    data = top10_renewable_country, \n",
        "    # color = 'dark green', \n",
        "    ci = None\n",
        "  )\n",
        "\n",
        "# set the legend\n",
        "ax.legend(bbox_to_anchor = (1, 0.76), frameon = True)\n",
        "ax.set(ylabel = 'Countries')\n",
        "\n",
        "# remove plot borders or spines\n",
        "sns.despine(right=True, top=True)\n",
        "\n",
        "# set titles and subtitles\n",
        "plt.title('Top 10 Renewable Producing Countries in Europe', fontsize = 20, fontweight='bold', loc='center', y = 1.2)\n",
        "plt.suptitle('Distributed by Renewable Sources Generation (TWh)', fontsize = 15,  y = 1)\n",
        "\n",
        "plt.show()\n"
      ],
      "metadata": {
        "colab": {
          "base_uri": "https://localhost:8080/",
          "height": 431
        },
        "id": "l3SMQaMnQQjC",
        "outputId": "3f230272-780b-4279-d4ca-d5547bf04635"
      },
      "execution_count": 209,
      "outputs": [
        {
          "output_type": "display_data",
          "data": {
            "text/plain": [
              "<Figure size 576x360 with 1 Axes>"
            ],
            "image/png": "[encoded data removed]"
          },
          "metadata": {
            "needs_background": "light"
          }
        }
      ]
    },
    {
      "cell_type": "markdown",
      "source": [
        "*Sweden is the top renewable energy producing country in EU for the period of time this dataset is recorded and the energy source they are using is Hydro. Next in line is France with a Hydro plant as well. Wind Energy sources are produced by Germany, Spain and United Kingdom. While Germany is the only Bioenergy producing country in the Top 10.*"
      ],
      "metadata": {
        "id": "qHJmjqift8yM"
      }
    }
  ]
}